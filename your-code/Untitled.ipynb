{
 "cells": [
  {
   "cell_type": "code",
   "execution_count": null,
   "metadata": {},
   "outputs": [],
   "source": [
    "amount_cust_country = pd.merge(amount_cust, orders[['CustomerID','Country']] , on='CustomerID')\n",
    "\n",
    "amount_cust_country_sum= amount_cust_country.groupby(['Country','customer types'], as_index=False).agg({'CustomerID':'count'})\n",
    "\n",
    "\n",
    "amount_cust_country_sum['CustomerID'].sum() == len(orders)\n",
    "orders_country=amount_cust_country_sum \n",
    "\n",
    "orders_country['Customers']=orders_country['CustomerID']\n",
    "orders_country['Customers'].max()\n",
    "maximum=orders_country.loc[orders_country['customer types']=='VIP', 'Customers'].max()\n",
    "\n",
    "\n",
    "orders_country.loc[(orders_country['Customers']==maximum), ['Country','customer types','Customers'] ]"
   ]
  },
  {
   "cell_type": "code",
   "execution_count": null,
   "metadata": {},
   "outputs": [],
   "source": [
    "total_amaount_by_customer_country = pd.merge(total_amaount_by_customer, orders[['CustomerID','Country']] , on='CustomerID')\n",
    "\n",
    "total_amaount_by_customer_country_sum= total_amaount_by_customer_country.groupby(['Country','customer_bins'], as_index=False).agg({'CustomerID':'count'})\n",
    "total_amaount_by_customer_country_sum.head()\n",
    "\n",
    "\n",
    "total_amaount_by_customer_country_sum['CustomerID'].sum() == len(orders) # just to check, if we still have all the orders\n",
    "orders_country=total_amaount_by_customer_country_sum\n",
    "\n",
    "orders_country['Customers']=orders_country['CustomerID'] #rename\n",
    "orders_country['Customers'].max()\n",
    "maximum=orders_country.loc[orders_country['customer_bins']=='VIP', 'Customers'].max()\n",
    "#find row\n",
    "\n",
    "orders_country.loc[(orders_country['Customers']==maximum), ['Country','customer_bins','Customers'] ]"
   ]
  }
 ],
 "metadata": {
  "kernelspec": {
   "display_name": "Python 3",
   "language": "python",
   "name": "python3"
  },
  "language_info": {
   "codemirror_mode": {
    "name": "ipython",
    "version": 3
   },
   "file_extension": ".py",
   "mimetype": "text/x-python",
   "name": "python",
   "nbconvert_exporter": "python",
   "pygments_lexer": "ipython3",
   "version": "3.8.3"
  }
 },
 "nbformat": 4,
 "nbformat_minor": 4
}
